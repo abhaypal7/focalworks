{
 "cells": [
  {
   "cell_type": "code",
   "execution_count": null,
   "id": "brave-target",
   "metadata": {},
   "outputs": [],
   "source": [
    "response = input()\n",
    "CorrectAnswer = input()\n"
   ]
  },
  {
   "cell_type": "code",
   "execution_count": 50,
   "id": "corporate-ceiling",
   "metadata": {},
   "outputs": [
    {
     "name": "stdout",
     "output_type": "stream",
     "text": [
      "There 5\n",
      "are 3\n",
      "hours 5\n",
      "in 2\n",
      "a 1\n"
     ]
    }
   ],
   "source": [
    "CorrectAnswer = \"There are twenty-four hours in a day, 30 days in a month, and 12 months in the calendar year.\"\n",
    "df1=CorrectAnswer.drop('.','-')\n",
    "response = \"There are Twenty-Four hours in a day. A year has 14 months.\"\n",
    "l1 = CorrectAnswer.split()\n",
    "l2 = response.split()\n",
    "score=0\n",
    "if l1 == l2:\n",
    "    print(\"your score is 100%\")\n",
    "else:\n",
    "    for i in l2:\n",
    "        if i in l1:\n",
    "            if type(i)==int:\n",
    "                print(i)\n",
    "                \n",
    "            else:\n",
    "                if len(i) > 7:\n",
    "                    print(i,len(i))\n",
    "                   \n",
    "                \n",
    "                elif len(i) <= 5:\n",
    "                    print(i,len(i))\n",
    "                    \n",
    "                else:\n",
    "                    print(i,len(i))\n",
    "                    "
   ]
  },
  {
   "cell_type": "code",
   "execution_count": 51,
   "id": "divine-briefs",
   "metadata": {},
   "outputs": [
    {
     "name": "stdout",
     "output_type": "stream",
     "text": [
      "There 5\n",
      "are 3\n",
      "Twenty-Four 11\n",
      "hours 5\n",
      "in 2\n",
      "a 1\n",
      "day. 4\n",
      "A 1\n",
      "year 4\n",
      "has 3\n",
      "14 2\n",
      "months. 7\n"
     ]
    }
   ],
   "source": [
    "CorrectAnswer = \"There are twenty-four hours in a day, 30 days in a month, and 12 months in the calendar year.\"\n",
    "response = \"There are Twenty-Four hours in a day. A year has 14 months.\"\n",
    "l1 = CorrectAnswer.split()\n",
    "l2 = response.split()\n",
    "score=0\n",
    "if l1 == l2:\n",
    "    print(\"your score is 100%\")\n",
    "else:\n",
    "    for i in l2:\n",
    "       # if i in l1:\n",
    "            if type(i)==int:\n",
    "                print(i)\n",
    "                \n",
    "            else:\n",
    "                if len(i) > 7:\n",
    "                    print(i,len(i))\n",
    "                   \n",
    "                \n",
    "                elif len(i) <= 5:\n",
    "                    print(i,len(i))\n",
    "                    \n",
    "                else:\n",
    "                    print(i,len(i))"
   ]
  },
  {
   "cell_type": "code",
   "execution_count": 41,
   "id": "statutory-disclaimer",
   "metadata": {},
   "outputs": [
    {
     "name": "stdout",
     "output_type": "stream",
     "text": [
      "are\n",
      "twenty-four\n"
     ]
    }
   ],
   "source": [
    "x=\"There are twenty-four\"\n",
    "x1=x.split()\n",
    "score=0\n",
    "marks=0\n",
    "for i in x1:\n",
    "    #print(i,len(i))\n",
    "    if len(i)>7:\n",
    "        print(i)\n",
    "    elif len(i)<5:\n",
    "        print(i)"
   ]
  },
  {
   "cell_type": "code",
   "execution_count": 31,
   "id": "novel-pathology",
   "metadata": {},
   "outputs": [
    {
     "data": {
      "text/plain": [
       "11"
      ]
     },
     "execution_count": 31,
     "metadata": {},
     "output_type": "execute_result"
    }
   ],
   "source": [
    "len('twenty-four')"
   ]
  },
  {
   "cell_type": "code",
   "execution_count": 42,
   "id": "sensitive-romania",
   "metadata": {},
   "outputs": [
    {
     "name": "stdout",
     "output_type": "stream",
     "text": [
      "twenty-four 0\n",
      "4\n"
     ]
    }
   ],
   "source": [
    "    if type(i)==int:\n",
    "        print(i)\n",
    "        score=score+4\n",
    "    else:\n",
    "        if len(i)>7:\n",
    "            marks=score+4\n",
    "        elif len(i)<5:\n",
    "            marks=score+0\n",
    "        else:\n",
    "            score=score+1\n",
    "        print(i,score)\n",
    "print(marks)"
   ]
  },
  {
   "cell_type": "code",
   "execution_count": 1,
   "id": "increased-gallery",
   "metadata": {},
   "outputs": [],
   "source": [
    "\n",
    "CorrectAnswer = \"There are twenty-four hours in a day, 30 days in a month, and 12 months in the calendar year.\"\n",
    "df1=CorrectAnswer.replace('.','').replace(',','').replace('-','').replace(\" '\",'')\n",
    "df1\n",
    "df2=df1.split()\n",
    "#for i in df1:\n",
    "    #print(i,len(i))"
   ]
  },
  {
   "cell_type": "code",
   "execution_count": 54,
   "id": "wooden-witch",
   "metadata": {},
   "outputs": [],
   "source": [
    "import pandas"
   ]
  },
  {
   "cell_type": "code",
   "execution_count": 59,
   "id": "encouraging-provincial",
   "metadata": {},
   "outputs": [
    {
     "data": {
      "text/plain": [
       "'flexiple!'"
      ]
     },
     "execution_count": 59,
     "metadata": {},
     "output_type": "execute_result"
    }
   ],
   "source": [
    "s = \"flexible!\"\n",
    "s2 = s.replace(\"b\",\"p\")\n",
    "s2"
   ]
  },
  {
   "cell_type": "code",
   "execution_count": null,
   "id": "center-obligation",
   "metadata": {},
   "outputs": [],
   "source": [
    "CorrectAnswer = input('Answer should be')\n",
    "response=input(S)\n",
    "\n",
    "#total points that can be stored\n",
    "df1=CorrectAnswer.replace('.','').replace(',','').replace('-','').replace(\" '\",'')\n",
    "l1=df1.split()\n",
    "total_score=0\n",
    "for i in l1:\n",
    "    if i.isdigit():\n",
    "        total_score = total_score+4\n",
    "    elif len(i)<5:\n",
    "        total_score = total_score+0\n",
    "    elif len(i)>7:\n",
    "        total_score = total_score+3\n",
    "    else:\n",
    "        total_score = total_score+1\n",
    "print(\"The total marks that can be obtained are\",total_score)\n",
    "\n",
    "#points scored by student\n",
    "df2=response.replace('.','').replace(',','').replace('-','').replace(\" '\",'')\n",
    "l2=df2.split()\n",
    "student_score=0\n",
    "for j in l2:\n",
    "    if i.isdigit():\n",
    "        student_score = student_score+4\n",
    "    elif len(i)<5:\n",
    "        student_score = student_score+0\n",
    "    elif len(i)>7:\n",
    "        student_score = student_score +3\n",
    "    else:\n",
    "        student_score = student_score +1\n",
    "print(\"The marks obtained are\",student_score)\n",
    "print(\"the ratio of the marks is\",student_score,'/',total_score)"
   ]
  },
  {
   "cell_type": "code",
   "execution_count": 38,
   "id": "purple-evidence",
   "metadata": {},
   "outputs": [
    {
     "data": {
      "text/plain": [
       "10"
      ]
     },
     "execution_count": 38,
     "metadata": {},
     "output_type": "execute_result"
    }
   ],
   "source": [
    "CorrectAnswer = \"There are twenty-four hours in a day, 30 days in a month, and 12 months in the calendar year.\"\n",
    "df1=CorrectAnswer.replace('.','').replace(',','').replace('-','').replace(\" '\",'')\n",
    "l1=df1.split()\n",
    "score=0\n",
    "for i in l1:\n",
    "    x=int(i.replace(i,str(len(i))))\n",
    "   \n",
    "    if x < 5:\n",
    "        score=score+0\n",
    "    elif x > 7:\n",
    "        score=score+3\n",
    "        \n",
    "    else:\n",
    "        score=score+1\n",
    "score"
   ]
  },
  {
   "cell_type": "code",
   "execution_count": 40,
   "id": "personalized-grave",
   "metadata": {},
   "outputs": [
    {
     "name": "stdout",
     "output_type": "stream",
     "text": [
      "30\n",
      "12\n"
     ]
    }
   ],
   "source": [
    "CorrectAnswer = \"There are twenty-four hours in a day, 30 days in a month, and 12 months in the calendar year.\"\n",
    "df1=CorrectAnswer.replace('.','').replace(',','').replace('-','').replace(\" '\",'')\n",
    "l1=df1.split()\n",
    "for word in l1:\n",
    "   if word.isdigit():\n",
    "    print(word)"
   ]
  },
  {
   "cell_type": "code",
   "execution_count": 54,
   "id": "willing-tiger",
   "metadata": {},
   "outputs": [],
   "source": [
    "class markallocation:\n",
    "    def totalscore(self):\n",
    "        self.CorrectAnswer=input()\n",
    "        df1=CorrectAnswer.replace('.','').replace(',','').replace('-','').replace(\" '\",'')\n",
    "        l1=df1.split()\n",
    "        print(l1)"
   ]
  },
  {
   "cell_type": "code",
   "execution_count": 58,
   "id": "rubber-supplement",
   "metadata": {},
   "outputs": [
    {
     "name": "stdout",
     "output_type": "stream",
     "text": [
      "There are twenty-four hours in a day, 30 days in a month, and 12 months in the calendar year.\n"
     ]
    },
    {
     "ename": "AttributeError",
     "evalue": "'str' object has no attribute 'CorrectAnswer'",
     "output_type": "error",
     "traceback": [
      "\u001b[1;31m---------------------------------------------------------------------------\u001b[0m",
      "\u001b[1;31mAttributeError\u001b[0m                            Traceback (most recent call last)",
      "\u001b[1;32m<ipython-input-58-0436720ebe71>\u001b[0m in \u001b[0;36m<module>\u001b[1;34m\u001b[0m\n\u001b[0;32m      1\u001b[0m \u001b[0mmarkallocation\u001b[0m\u001b[1;33m(\u001b[0m\u001b[1;33m)\u001b[0m\u001b[1;33m\u001b[0m\u001b[1;33m\u001b[0m\u001b[0m\n\u001b[1;32m----> 2\u001b[1;33m \u001b[0mmarkallocation\u001b[0m\u001b[1;33m.\u001b[0m\u001b[0mtotalscore\u001b[0m\u001b[1;33m(\u001b[0m\u001b[1;34m\"There are twenty-four hours in a day, 30 days in a month, and 12 months in the calendar year.\"\u001b[0m\u001b[1;33m)\u001b[0m\u001b[1;33m\u001b[0m\u001b[1;33m\u001b[0m\u001b[0m\n\u001b[0m",
      "\u001b[1;32m<ipython-input-54-c75d1b59d431>\u001b[0m in \u001b[0;36mtotalscore\u001b[1;34m(self)\u001b[0m\n\u001b[0;32m      1\u001b[0m \u001b[1;32mclass\u001b[0m \u001b[0mmarkallocation\u001b[0m\u001b[1;33m:\u001b[0m\u001b[1;33m\u001b[0m\u001b[1;33m\u001b[0m\u001b[0m\n\u001b[0;32m      2\u001b[0m     \u001b[1;32mdef\u001b[0m \u001b[0mtotalscore\u001b[0m\u001b[1;33m(\u001b[0m\u001b[0mself\u001b[0m\u001b[1;33m)\u001b[0m\u001b[1;33m:\u001b[0m\u001b[1;33m\u001b[0m\u001b[1;33m\u001b[0m\u001b[0m\n\u001b[1;32m----> 3\u001b[1;33m         \u001b[0mself\u001b[0m\u001b[1;33m.\u001b[0m\u001b[0mCorrectAnswer\u001b[0m\u001b[1;33m=\u001b[0m\u001b[0minput\u001b[0m\u001b[1;33m(\u001b[0m\u001b[1;33m)\u001b[0m\u001b[1;33m\u001b[0m\u001b[1;33m\u001b[0m\u001b[0m\n\u001b[0m\u001b[0;32m      4\u001b[0m         \u001b[0mdf1\u001b[0m\u001b[1;33m=\u001b[0m\u001b[0mCorrectAnswer\u001b[0m\u001b[1;33m.\u001b[0m\u001b[0mreplace\u001b[0m\u001b[1;33m(\u001b[0m\u001b[1;34m'.'\u001b[0m\u001b[1;33m,\u001b[0m\u001b[1;34m''\u001b[0m\u001b[1;33m)\u001b[0m\u001b[1;33m.\u001b[0m\u001b[0mreplace\u001b[0m\u001b[1;33m(\u001b[0m\u001b[1;34m','\u001b[0m\u001b[1;33m,\u001b[0m\u001b[1;34m''\u001b[0m\u001b[1;33m)\u001b[0m\u001b[1;33m.\u001b[0m\u001b[0mreplace\u001b[0m\u001b[1;33m(\u001b[0m\u001b[1;34m'-'\u001b[0m\u001b[1;33m,\u001b[0m\u001b[1;34m''\u001b[0m\u001b[1;33m)\u001b[0m\u001b[1;33m.\u001b[0m\u001b[0mreplace\u001b[0m\u001b[1;33m(\u001b[0m\u001b[1;34m\" '\"\u001b[0m\u001b[1;33m,\u001b[0m\u001b[1;34m''\u001b[0m\u001b[1;33m)\u001b[0m\u001b[1;33m\u001b[0m\u001b[1;33m\u001b[0m\u001b[0m\n\u001b[0;32m      5\u001b[0m         \u001b[0ml1\u001b[0m\u001b[1;33m=\u001b[0m\u001b[0mdf1\u001b[0m\u001b[1;33m.\u001b[0m\u001b[0msplit\u001b[0m\u001b[1;33m(\u001b[0m\u001b[1;33m)\u001b[0m\u001b[1;33m\u001b[0m\u001b[1;33m\u001b[0m\u001b[0m\n",
      "\u001b[1;31mAttributeError\u001b[0m: 'str' object has no attribute 'CorrectAnswer'"
     ]
    }
   ],
   "source": [
    "markallocation()\n",
    "markallocation.totalscore(\"There are twenty-four hours in a day, 30 days in a month, and 12 months in the calendar year.\")"
   ]
  },
  {
   "cell_type": "code",
   "execution_count": null,
   "id": "ultimate-martial",
   "metadata": {},
   "outputs": [],
   "source": []
  }
 ],
 "metadata": {
  "kernelspec": {
   "display_name": "Python 3",
   "language": "python",
   "name": "python3"
  },
  "language_info": {
   "codemirror_mode": {
    "name": "ipython",
    "version": 3
   },
   "file_extension": ".py",
   "mimetype": "text/x-python",
   "name": "python",
   "nbconvert_exporter": "python",
   "pygments_lexer": "ipython3",
   "version": "3.9.2"
  }
 },
 "nbformat": 4,
 "nbformat_minor": 5
}
